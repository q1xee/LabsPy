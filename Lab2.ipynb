{
 "cells": [
  {
   "cell_type": "markdown",
   "id": "b2d89f9b",
   "metadata": {},
   "source": [
    "# Лабораторна робота № 2\n",
    "## Використання Pandas для аналізу даних\n",
    "## Мета: Вивчення основних функцій Pandas для аналізу даних."
   ]
  },
  {
   "cell_type": "markdown",
   "id": "fa0c4121",
   "metadata": {},
   "source": [
    "## Формула визначення варіанту"
   ]
  },
  {
   "cell_type": "code",
   "execution_count": 1,
   "id": "655f90ff",
   "metadata": {},
   "outputs": [
    {
     "data": {
      "text/plain": [
       "1"
      ]
     },
     "execution_count": 1,
     "metadata": {},
     "output_type": "execute_result"
    }
   ],
   "source": [
    "N = (16 + 4 ) % 5 + 1\n",
    "N"
   ]
  },
  {
   "cell_type": "markdown",
   "id": "619ae782",
   "metadata": {},
   "source": [
    "## 1. Виведіть перші 8 рядків набору даних."
   ]
  },
  {
   "cell_type": "code",
   "execution_count": 2,
   "id": "3e849f28",
   "metadata": {},
   "outputs": [
    {
     "data": {
      "text/html": [
       "<div>\n",
       "<style scoped>\n",
       "    .dataframe tbody tr th:only-of-type {\n",
       "        vertical-align: middle;\n",
       "    }\n",
       "\n",
       "    .dataframe tbody tr th {\n",
       "        vertical-align: top;\n",
       "    }\n",
       "\n",
       "    .dataframe thead th {\n",
       "        text-align: right;\n",
       "    }\n",
       "</style>\n",
       "<table border=\"1\" class=\"dataframe\">\n",
       "  <thead>\n",
       "    <tr style=\"text-align: right;\">\n",
       "      <th></th>\n",
       "      <th>Id</th>\n",
       "      <th>Name</th>\n",
       "      <th>Year</th>\n",
       "      <th>Gender</th>\n",
       "      <th>Count</th>\n",
       "    </tr>\n",
       "  </thead>\n",
       "  <tbody>\n",
       "    <tr>\n",
       "      <th>0</th>\n",
       "      <td>1</td>\n",
       "      <td>Mary</td>\n",
       "      <td>1880</td>\n",
       "      <td>F</td>\n",
       "      <td>7065</td>\n",
       "    </tr>\n",
       "    <tr>\n",
       "      <th>1</th>\n",
       "      <td>2</td>\n",
       "      <td>Anna</td>\n",
       "      <td>1880</td>\n",
       "      <td>F</td>\n",
       "      <td>2604</td>\n",
       "    </tr>\n",
       "    <tr>\n",
       "      <th>2</th>\n",
       "      <td>3</td>\n",
       "      <td>Emma</td>\n",
       "      <td>1880</td>\n",
       "      <td>F</td>\n",
       "      <td>2003</td>\n",
       "    </tr>\n",
       "    <tr>\n",
       "      <th>3</th>\n",
       "      <td>4</td>\n",
       "      <td>Elizabeth</td>\n",
       "      <td>1880</td>\n",
       "      <td>F</td>\n",
       "      <td>1939</td>\n",
       "    </tr>\n",
       "    <tr>\n",
       "      <th>4</th>\n",
       "      <td>5</td>\n",
       "      <td>Minnie</td>\n",
       "      <td>1880</td>\n",
       "      <td>F</td>\n",
       "      <td>1746</td>\n",
       "    </tr>\n",
       "    <tr>\n",
       "      <th>5</th>\n",
       "      <td>6</td>\n",
       "      <td>Margaret</td>\n",
       "      <td>1880</td>\n",
       "      <td>F</td>\n",
       "      <td>1578</td>\n",
       "    </tr>\n",
       "    <tr>\n",
       "      <th>6</th>\n",
       "      <td>7</td>\n",
       "      <td>Ida</td>\n",
       "      <td>1880</td>\n",
       "      <td>F</td>\n",
       "      <td>1472</td>\n",
       "    </tr>\n",
       "    <tr>\n",
       "      <th>7</th>\n",
       "      <td>8</td>\n",
       "      <td>Alice</td>\n",
       "      <td>1880</td>\n",
       "      <td>F</td>\n",
       "      <td>1414</td>\n",
       "    </tr>\n",
       "  </tbody>\n",
       "</table>\n",
       "</div>"
      ],
      "text/plain": [
       "   Id       Name  Year Gender  Count\n",
       "0   1       Mary  1880      F   7065\n",
       "1   2       Anna  1880      F   2604\n",
       "2   3       Emma  1880      F   2003\n",
       "3   4  Elizabeth  1880      F   1939\n",
       "4   5     Minnie  1880      F   1746\n",
       "5   6   Margaret  1880      F   1578\n",
       "6   7        Ida  1880      F   1472\n",
       "7   8      Alice  1880      F   1414"
      ]
     },
     "execution_count": 2,
     "metadata": {},
     "output_type": "execute_result"
    }
   ],
   "source": [
    "import pandas as pd\n",
    "import matplotlib.pyplot as plt\n",
    "file_path = 'NationalNames.csv'\n",
    "data = pd.read_csv(file_path)\n",
    "data.head(8)"
   ]
  },
  {
   "cell_type": "markdown",
   "id": "41d2b3c5",
   "metadata": {},
   "source": [
    "## 2. Вивести останні 8 рядків набору даних."
   ]
  },
  {
   "cell_type": "code",
   "execution_count": 3,
   "id": "2b8e2a76",
   "metadata": {},
   "outputs": [
    {
     "data": {
      "text/html": [
       "<div>\n",
       "<style scoped>\n",
       "    .dataframe tbody tr th:only-of-type {\n",
       "        vertical-align: middle;\n",
       "    }\n",
       "\n",
       "    .dataframe tbody tr th {\n",
       "        vertical-align: top;\n",
       "    }\n",
       "\n",
       "    .dataframe thead th {\n",
       "        text-align: right;\n",
       "    }\n",
       "</style>\n",
       "<table border=\"1\" class=\"dataframe\">\n",
       "  <thead>\n",
       "    <tr style=\"text-align: right;\">\n",
       "      <th></th>\n",
       "      <th>Id</th>\n",
       "      <th>Name</th>\n",
       "      <th>Year</th>\n",
       "      <th>Gender</th>\n",
       "      <th>Count</th>\n",
       "    </tr>\n",
       "  </thead>\n",
       "  <tbody>\n",
       "    <tr>\n",
       "      <th>1825425</th>\n",
       "      <td>1825426</td>\n",
       "      <td>Zo</td>\n",
       "      <td>2014</td>\n",
       "      <td>M</td>\n",
       "      <td>5</td>\n",
       "    </tr>\n",
       "    <tr>\n",
       "      <th>1825426</th>\n",
       "      <td>1825427</td>\n",
       "      <td>Zyeir</td>\n",
       "      <td>2014</td>\n",
       "      <td>M</td>\n",
       "      <td>5</td>\n",
       "    </tr>\n",
       "    <tr>\n",
       "      <th>1825427</th>\n",
       "      <td>1825428</td>\n",
       "      <td>Zyel</td>\n",
       "      <td>2014</td>\n",
       "      <td>M</td>\n",
       "      <td>5</td>\n",
       "    </tr>\n",
       "    <tr>\n",
       "      <th>1825428</th>\n",
       "      <td>1825429</td>\n",
       "      <td>Zykeem</td>\n",
       "      <td>2014</td>\n",
       "      <td>M</td>\n",
       "      <td>5</td>\n",
       "    </tr>\n",
       "    <tr>\n",
       "      <th>1825429</th>\n",
       "      <td>1825430</td>\n",
       "      <td>Zymeer</td>\n",
       "      <td>2014</td>\n",
       "      <td>M</td>\n",
       "      <td>5</td>\n",
       "    </tr>\n",
       "    <tr>\n",
       "      <th>1825430</th>\n",
       "      <td>1825431</td>\n",
       "      <td>Zymiere</td>\n",
       "      <td>2014</td>\n",
       "      <td>M</td>\n",
       "      <td>5</td>\n",
       "    </tr>\n",
       "    <tr>\n",
       "      <th>1825431</th>\n",
       "      <td>1825432</td>\n",
       "      <td>Zyran</td>\n",
       "      <td>2014</td>\n",
       "      <td>M</td>\n",
       "      <td>5</td>\n",
       "    </tr>\n",
       "    <tr>\n",
       "      <th>1825432</th>\n",
       "      <td>1825433</td>\n",
       "      <td>Zyrin</td>\n",
       "      <td>2014</td>\n",
       "      <td>M</td>\n",
       "      <td>5</td>\n",
       "    </tr>\n",
       "  </tbody>\n",
       "</table>\n",
       "</div>"
      ],
      "text/plain": [
       "              Id     Name  Year Gender  Count\n",
       "1825425  1825426       Zo  2014      M      5\n",
       "1825426  1825427    Zyeir  2014      M      5\n",
       "1825427  1825428     Zyel  2014      M      5\n",
       "1825428  1825429   Zykeem  2014      M      5\n",
       "1825429  1825430   Zymeer  2014      M      5\n",
       "1825430  1825431  Zymiere  2014      M      5\n",
       "1825431  1825432    Zyran  2014      M      5\n",
       "1825432  1825433    Zyrin  2014      M      5"
      ]
     },
     "execution_count": 3,
     "metadata": {},
     "output_type": "execute_result"
    }
   ],
   "source": [
    "data.tail(8)"
   ]
  },
  {
   "cell_type": "markdown",
   "id": "6261ace0",
   "metadata": {},
   "source": [
    "## 3. Отримайте імена стовпців набору даних"
   ]
  },
  {
   "cell_type": "code",
   "execution_count": 4,
   "id": "7d69984d",
   "metadata": {},
   "outputs": [
    {
     "data": {
      "text/plain": [
       "Index(['Id', 'Name', 'Year', 'Gender', 'Count'], dtype='object')"
      ]
     },
     "execution_count": 4,
     "metadata": {},
     "output_type": "execute_result"
    }
   ],
   "source": [
    "data.columns"
   ]
  },
  {
   "cell_type": "markdown",
   "id": "5350ea8c",
   "metadata": {},
   "source": [
    "## 5. Знайдіть кількість унікальних імен у наборі даних"
   ]
  },
  {
   "cell_type": "code",
   "execution_count": 5,
   "id": "201f7b97",
   "metadata": {},
   "outputs": [
    {
     "data": {
      "text/plain": [
       "93889"
      ]
     },
     "execution_count": 5,
     "metadata": {},
     "output_type": "execute_result"
    }
   ],
   "source": [
    "data['Name'].nunique()"
   ]
  },
  {
   "cell_type": "markdown",
   "id": "bd661bac",
   "metadata": {},
   "source": [
    "## 10. Підрахуйте кількість унікальних імен у кожному році"
   ]
  },
  {
   "cell_type": "code",
   "execution_count": 6,
   "id": "ebad3a65",
   "metadata": {},
   "outputs": [
    {
     "data": {
      "text/html": [
       "<div>\n",
       "<style scoped>\n",
       "    .dataframe tbody tr th:only-of-type {\n",
       "        vertical-align: middle;\n",
       "    }\n",
       "\n",
       "    .dataframe tbody tr th {\n",
       "        vertical-align: top;\n",
       "    }\n",
       "\n",
       "    .dataframe thead th {\n",
       "        text-align: right;\n",
       "    }\n",
       "</style>\n",
       "<table border=\"1\" class=\"dataframe\">\n",
       "  <thead>\n",
       "    <tr style=\"text-align: right;\">\n",
       "      <th></th>\n",
       "      <th>Name</th>\n",
       "    </tr>\n",
       "    <tr>\n",
       "      <th>Year</th>\n",
       "      <th></th>\n",
       "    </tr>\n",
       "  </thead>\n",
       "  <tbody>\n",
       "    <tr>\n",
       "      <th>1880</th>\n",
       "      <td>1889</td>\n",
       "    </tr>\n",
       "    <tr>\n",
       "      <th>1881</th>\n",
       "      <td>1830</td>\n",
       "    </tr>\n",
       "    <tr>\n",
       "      <th>1882</th>\n",
       "      <td>2012</td>\n",
       "    </tr>\n",
       "    <tr>\n",
       "      <th>1883</th>\n",
       "      <td>1962</td>\n",
       "    </tr>\n",
       "    <tr>\n",
       "      <th>1884</th>\n",
       "      <td>2158</td>\n",
       "    </tr>\n",
       "    <tr>\n",
       "      <th>...</th>\n",
       "      <td>...</td>\n",
       "    </tr>\n",
       "    <tr>\n",
       "      <th>2010</th>\n",
       "      <td>31603</td>\n",
       "    </tr>\n",
       "    <tr>\n",
       "      <th>2011</th>\n",
       "      <td>31418</td>\n",
       "    </tr>\n",
       "    <tr>\n",
       "      <th>2012</th>\n",
       "      <td>31236</td>\n",
       "    </tr>\n",
       "    <tr>\n",
       "      <th>2013</th>\n",
       "      <td>30774</td>\n",
       "    </tr>\n",
       "    <tr>\n",
       "      <th>2014</th>\n",
       "      <td>30579</td>\n",
       "    </tr>\n",
       "  </tbody>\n",
       "</table>\n",
       "<p>135 rows × 1 columns</p>\n",
       "</div>"
      ],
      "text/plain": [
       "       Name\n",
       "Year       \n",
       "1880   1889\n",
       "1881   1830\n",
       "1882   2012\n",
       "1883   1962\n",
       "1884   2158\n",
       "...     ...\n",
       "2010  31603\n",
       "2011  31418\n",
       "2012  31236\n",
       "2013  30774\n",
       "2014  30579\n",
       "\n",
       "[135 rows x 1 columns]"
      ]
     },
     "execution_count": 6,
     "metadata": {},
     "output_type": "execute_result"
    }
   ],
   "source": [
    "data.groupby('Year')[['Name']].nunique()"
   ]
  },
  {
   "cell_type": "markdown",
   "id": "9e8a6e89",
   "metadata": {},
   "source": [
    "## 11. Знайдіть рік із найбільшою кількістю унікальних імен."
   ]
  },
  {
   "cell_type": "code",
   "execution_count": 7,
   "id": "a5236ce8",
   "metadata": {},
   "outputs": [
    {
     "data": {
      "text/html": [
       "<div>\n",
       "<style scoped>\n",
       "    .dataframe tbody tr th:only-of-type {\n",
       "        vertical-align: middle;\n",
       "    }\n",
       "\n",
       "    .dataframe tbody tr th {\n",
       "        vertical-align: top;\n",
       "    }\n",
       "\n",
       "    .dataframe thead th {\n",
       "        text-align: right;\n",
       "    }\n",
       "</style>\n",
       "<table border=\"1\" class=\"dataframe\">\n",
       "  <thead>\n",
       "    <tr style=\"text-align: right;\">\n",
       "      <th></th>\n",
       "      <th>Name</th>\n",
       "    </tr>\n",
       "    <tr>\n",
       "      <th>Year</th>\n",
       "      <th></th>\n",
       "    </tr>\n",
       "  </thead>\n",
       "  <tbody>\n",
       "    <tr>\n",
       "      <th>2008</th>\n",
       "      <td>32488</td>\n",
       "    </tr>\n",
       "  </tbody>\n",
       "</table>\n",
       "</div>"
      ],
      "text/plain": [
       "       Name\n",
       "Year       \n",
       "2008  32488"
      ]
     },
     "execution_count": 7,
     "metadata": {},
     "output_type": "execute_result"
    }
   ],
   "source": [
    "names_per_year = data.groupby('Year')[['Name']].nunique()\n",
    "year_with_max_names = names_per_year.loc[[names_per_year['Name'].idxmax()]]\n",
    "year_with_max_names"
   ]
  },
  {
   "cell_type": "markdown",
   "id": "ec2781d9",
   "metadata": {},
   "source": [
    "## 12. Знайдіть найпопулярніше ім’я в році з найбільшою кількістю унікальних імен (тобто у 2008 році)"
   ]
  },
  {
   "cell_type": "code",
   "execution_count": 8,
   "id": "1f47f5bd",
   "metadata": {},
   "outputs": [
    {
     "data": {
      "text/plain": [
       "'Jacob'"
      ]
     },
     "execution_count": 8,
     "metadata": {},
     "output_type": "execute_result"
    }
   ],
   "source": [
    "data_2008 = data[data['Year'] == 2008]\n",
    "most_frequent_name_2008 = data_2008.groupby('Name')['Count'].sum().idxmax()\n",
    "most_frequent_name_2008"
   ]
  },
  {
   "cell_type": "markdown",
   "id": "fcf25a32",
   "metadata": {},
   "source": [
    "## 13. Знайдіть рік, коли ім’я “Jacob” було найпопулярнішим серед жіночих імен"
   ]
  },
  {
   "cell_type": "code",
   "execution_count": 9,
   "id": "b4bd8394",
   "metadata": {},
   "outputs": [
    {
     "data": {
      "text/html": [
       "<div>\n",
       "<style scoped>\n",
       "    .dataframe tbody tr th:only-of-type {\n",
       "        vertical-align: middle;\n",
       "    }\n",
       "\n",
       "    .dataframe tbody tr th {\n",
       "        vertical-align: top;\n",
       "    }\n",
       "\n",
       "    .dataframe thead th {\n",
       "        text-align: right;\n",
       "    }\n",
       "</style>\n",
       "<table border=\"1\" class=\"dataframe\">\n",
       "  <thead>\n",
       "    <tr style=\"text-align: right;\">\n",
       "      <th></th>\n",
       "      <th>Id</th>\n",
       "      <th>Name</th>\n",
       "      <th>Year</th>\n",
       "      <th>Gender</th>\n",
       "      <th>Count</th>\n",
       "    </tr>\n",
       "  </thead>\n",
       "  <tbody>\n",
       "    <tr>\n",
       "      <th>1455556</th>\n",
       "      <td>1455557</td>\n",
       "      <td>Jacob</td>\n",
       "      <td>2004</td>\n",
       "      <td>F</td>\n",
       "      <td>171</td>\n",
       "    </tr>\n",
       "  </tbody>\n",
       "</table>\n",
       "</div>"
      ],
      "text/plain": [
       "              Id   Name  Year Gender  Count\n",
       "1455556  1455557  Jacob  2004      F    171"
      ]
     },
     "execution_count": 9,
     "metadata": {},
     "output_type": "execute_result"
    }
   ],
   "source": [
    "most_popular_jacob_year = data[(data['Name'] == 'Jacob') & (data['Gender'] == 'F')].nlargest(1, 'Count')\n",
    "most_popular_jacob_year[['Id', 'Name', 'Year', 'Gender', 'Count']]"
   ]
  },
  {
   "cell_type": "markdown",
   "id": "e603bab5",
   "metadata": {},
   "source": [
    "## 14. Знайти рік із найбільшою кількістю гендерно нейтральних імен (однакові чоловічі та жіночі імена)\n"
   ]
  },
  {
   "cell_type": "code",
   "execution_count": 10,
   "id": "32e54e80",
   "metadata": {},
   "outputs": [
    {
     "data": {
      "text/html": [
       "<div>\n",
       "<style scoped>\n",
       "    .dataframe tbody tr th:only-of-type {\n",
       "        vertical-align: middle;\n",
       "    }\n",
       "\n",
       "    .dataframe tbody tr th {\n",
       "        vertical-align: top;\n",
       "    }\n",
       "\n",
       "    .dataframe thead th {\n",
       "        text-align: right;\n",
       "    }\n",
       "</style>\n",
       "<table border=\"1\" class=\"dataframe\">\n",
       "  <thead>\n",
       "    <tr style=\"text-align: right;\">\n",
       "      <th></th>\n",
       "      <th>Gender_neutral_names</th>\n",
       "    </tr>\n",
       "    <tr>\n",
       "      <th>Year</th>\n",
       "      <th></th>\n",
       "    </tr>\n",
       "  </thead>\n",
       "  <tbody>\n",
       "    <tr>\n",
       "      <th>2008</th>\n",
       "      <td>2557</td>\n",
       "    </tr>\n",
       "  </tbody>\n",
       "</table>\n",
       "</div>"
      ],
      "text/plain": [
       "      Gender_neutral_names\n",
       "Year                      \n",
       "2008                  2557"
      ]
     },
     "execution_count": 10,
     "metadata": {},
     "output_type": "execute_result"
    }
   ],
   "source": [
    "gender_neutral_names = data.groupby(['Name', 'Year'])['Gender'].nunique()\n",
    "neutral_years = gender_neutral_names[gender_neutral_names == 2].reset_index()\n",
    "neutral_counts = neutral_years.groupby('Year').size().reset_index(name='Gender_neutral_names')\n",
    "result = neutral_counts.loc[neutral_counts['Gender_neutral_names'].idxmax()].to_frame().T.set_index('Year')\n",
    "result"
   ]
  },
  {
   "cell_type": "markdown",
   "id": "7ca55e6c",
   "metadata": {},
   "source": [
    "## 15. Знайдіть загальну кількість народжень за рік."
   ]
  },
  {
   "cell_type": "code",
   "execution_count": 11,
   "id": "c4726faa",
   "metadata": {},
   "outputs": [
    {
     "data": {
      "text/html": [
       "<div>\n",
       "<style scoped>\n",
       "    .dataframe tbody tr th:only-of-type {\n",
       "        vertical-align: middle;\n",
       "    }\n",
       "\n",
       "    .dataframe tbody tr th {\n",
       "        vertical-align: top;\n",
       "    }\n",
       "\n",
       "    .dataframe thead th {\n",
       "        text-align: right;\n",
       "    }\n",
       "</style>\n",
       "<table border=\"1\" class=\"dataframe\">\n",
       "  <thead>\n",
       "    <tr style=\"text-align: right;\">\n",
       "      <th></th>\n",
       "      <th>Year</th>\n",
       "      <th>Total_Births</th>\n",
       "    </tr>\n",
       "  </thead>\n",
       "  <tbody>\n",
       "    <tr>\n",
       "      <th>0</th>\n",
       "      <td>1880</td>\n",
       "      <td>201484</td>\n",
       "    </tr>\n",
       "    <tr>\n",
       "      <th>1</th>\n",
       "      <td>1881</td>\n",
       "      <td>192699</td>\n",
       "    </tr>\n",
       "    <tr>\n",
       "      <th>2</th>\n",
       "      <td>1882</td>\n",
       "      <td>221538</td>\n",
       "    </tr>\n",
       "    <tr>\n",
       "      <th>3</th>\n",
       "      <td>1883</td>\n",
       "      <td>216950</td>\n",
       "    </tr>\n",
       "    <tr>\n",
       "      <th>4</th>\n",
       "      <td>1884</td>\n",
       "      <td>243467</td>\n",
       "    </tr>\n",
       "  </tbody>\n",
       "</table>\n",
       "</div>"
      ],
      "text/plain": [
       "   Year  Total_Births\n",
       "0  1880        201484\n",
       "1  1881        192699\n",
       "2  1882        221538\n",
       "3  1883        216950\n",
       "4  1884        243467"
      ]
     },
     "execution_count": 11,
     "metadata": {},
     "output_type": "execute_result"
    }
   ],
   "source": [
    "total_births_per_year = data.groupby('Year')['Count'].sum().reset_index(name='Total_Births')\n",
    "total_births_per_year.head()"
   ]
  },
  {
   "cell_type": "markdown",
   "id": "01b6f186",
   "metadata": {},
   "source": [
    "## 16. Знайдіть рік, коли народилося найбільше дітей"
   ]
  },
  {
   "cell_type": "code",
   "execution_count": 12,
   "id": "67773d80",
   "metadata": {},
   "outputs": [
    {
     "data": {
      "text/plain": [
       "1957"
      ]
     },
     "execution_count": 12,
     "metadata": {},
     "output_type": "execute_result"
    }
   ],
   "source": [
    "max_birth_year = data.groupby('Year')['Count'].sum().idxmax()\n",
    "max_birth_year"
   ]
  },
  {
   "cell_type": "markdown",
   "id": "745de096",
   "metadata": {},
   "source": [
    "## 17. Знайдіть кількість дівчаток та хлопчиків, які народились кожного року"
   ]
  },
  {
   "cell_type": "code",
   "execution_count": 13,
   "id": "ceb41cca",
   "metadata": {},
   "outputs": [
    {
     "data": {
      "text/html": [
       "<div>\n",
       "<style scoped>\n",
       "    .dataframe tbody tr th:only-of-type {\n",
       "        vertical-align: middle;\n",
       "    }\n",
       "\n",
       "    .dataframe tbody tr th {\n",
       "        vertical-align: top;\n",
       "    }\n",
       "\n",
       "    .dataframe thead th {\n",
       "        text-align: right;\n",
       "    }\n",
       "</style>\n",
       "<table border=\"1\" class=\"dataframe\">\n",
       "  <thead>\n",
       "    <tr style=\"text-align: right;\">\n",
       "      <th>Gender</th>\n",
       "      <th>Year</th>\n",
       "      <th>F</th>\n",
       "      <th>M</th>\n",
       "    </tr>\n",
       "  </thead>\n",
       "  <tbody>\n",
       "    <tr>\n",
       "      <th>0</th>\n",
       "      <td>1880</td>\n",
       "      <td>90993</td>\n",
       "      <td>110491</td>\n",
       "    </tr>\n",
       "    <tr>\n",
       "      <th>1</th>\n",
       "      <td>1881</td>\n",
       "      <td>91954</td>\n",
       "      <td>100745</td>\n",
       "    </tr>\n",
       "    <tr>\n",
       "      <th>2</th>\n",
       "      <td>1882</td>\n",
       "      <td>107850</td>\n",
       "      <td>113688</td>\n",
       "    </tr>\n",
       "    <tr>\n",
       "      <th>3</th>\n",
       "      <td>1883</td>\n",
       "      <td>112321</td>\n",
       "      <td>104629</td>\n",
       "    </tr>\n",
       "    <tr>\n",
       "      <th>4</th>\n",
       "      <td>1884</td>\n",
       "      <td>129022</td>\n",
       "      <td>114445</td>\n",
       "    </tr>\n",
       "  </tbody>\n",
       "</table>\n",
       "</div>"
      ],
      "text/plain": [
       "Gender  Year       F       M\n",
       "0       1880   90993  110491\n",
       "1       1881   91954  100745\n",
       "2       1882  107850  113688\n",
       "3       1883  112321  104629\n",
       "4       1884  129022  114445"
      ]
     },
     "execution_count": 13,
     "metadata": {},
     "output_type": "execute_result"
    }
   ],
   "source": [
    "births_by_gender_per_year = data.groupby(['Year', 'Gender'])['Count'].sum().unstack(fill_value=0).reset_index()\n",
    "births_by_gender_per_year.head()"
   ]
  },
  {
   "cell_type": "markdown",
   "id": "0b0f5acb",
   "metadata": {},
   "source": [
    "## 18. Підрахуйте кількість років, коли дівчаток народжувалось більше, ніж хлопчиків."
   ]
  },
  {
   "cell_type": "code",
   "execution_count": 14,
   "id": "ce03545a",
   "metadata": {},
   "outputs": [
    {
     "data": {
      "text/plain": [
       "54"
      ]
     },
     "execution_count": 14,
     "metadata": {},
     "output_type": "execute_result"
    }
   ],
   "source": [
    "gender_comparison = births_by_gender_per_year['F'] > births_by_gender_per_year['M']\n",
    "count_years_more_girls = gender_comparison.sum()\n",
    "count_years_more_girls"
   ]
  },
  {
   "cell_type": "markdown",
   "id": "6b978b67",
   "metadata": {},
   "source": [
    "## 21. Порахуйте, скільки разів хлопчиків називали Barbara"
   ]
  },
  {
   "cell_type": "code",
   "execution_count": 15,
   "id": "836934c0",
   "metadata": {},
   "outputs": [
    {
     "data": {
      "text/plain": [
       "4139"
      ]
     },
     "execution_count": 15,
     "metadata": {},
     "output_type": "execute_result"
    }
   ],
   "source": [
    "boys_named_barbara = data[(data['Name'] == 'Barbara') & (data['Gender'] == 'M')]['Count'].sum()\n",
    "boys_named_barbara"
   ]
  },
  {
   "cell_type": "markdown",
   "id": "f17ec60b",
   "metadata": {},
   "source": [
    "## 22. Підрахуйте скільки років проводилось спостереження"
   ]
  },
  {
   "cell_type": "code",
   "execution_count": 16,
   "id": "086c80e4",
   "metadata": {},
   "outputs": [
    {
     "data": {
      "text/plain": [
       "'Спостереження проводились 135 років'"
      ]
     },
     "execution_count": 16,
     "metadata": {},
     "output_type": "execute_result"
    }
   ],
   "source": [
    "years_observed = data['Year'].nunique()\n",
    "f\"Спостереження проводились {years_observed} років\""
   ]
  },
  {
   "cell_type": "markdown",
   "id": "f2701de0",
   "metadata": {},
   "source": [
    "## 23. Знати найпопулярніші гендерно-нейтральні імена (ті, що присутні кожного року)\n"
   ]
  },
  {
   "cell_type": "code",
   "execution_count": 17,
   "id": "202ec063",
   "metadata": {},
   "outputs": [
    {
     "data": {
      "text/html": [
       "<div>\n",
       "<style scoped>\n",
       "    .dataframe tbody tr th:only-of-type {\n",
       "        vertical-align: middle;\n",
       "    }\n",
       "\n",
       "    .dataframe tbody tr th {\n",
       "        vertical-align: top;\n",
       "    }\n",
       "\n",
       "    .dataframe thead th {\n",
       "        text-align: right;\n",
       "    }\n",
       "</style>\n",
       "<table border=\"1\" class=\"dataframe\">\n",
       "  <thead>\n",
       "    <tr style=\"text-align: right;\">\n",
       "      <th>Gender</th>\n",
       "      <th>F</th>\n",
       "      <th>M</th>\n",
       "      <th>Total</th>\n",
       "    </tr>\n",
       "    <tr>\n",
       "      <th>Name</th>\n",
       "      <th></th>\n",
       "      <th></th>\n",
       "      <th></th>\n",
       "    </tr>\n",
       "  </thead>\n",
       "  <tbody>\n",
       "    <tr>\n",
       "      <th>James</th>\n",
       "      <td>23177</td>\n",
       "      <td>5105919</td>\n",
       "      <td>5129096</td>\n",
       "    </tr>\n",
       "    <tr>\n",
       "      <th>John</th>\n",
       "      <td>21647</td>\n",
       "      <td>5084943</td>\n",
       "      <td>5106590</td>\n",
       "    </tr>\n",
       "    <tr>\n",
       "      <th>Robert</th>\n",
       "      <td>20090</td>\n",
       "      <td>4796695</td>\n",
       "      <td>4816785</td>\n",
       "    </tr>\n",
       "    <tr>\n",
       "      <th>Michael</th>\n",
       "      <td>21607</td>\n",
       "      <td>4309198</td>\n",
       "      <td>4330805</td>\n",
       "    </tr>\n",
       "    <tr>\n",
       "      <th>Mary</th>\n",
       "      <td>4115282</td>\n",
       "      <td>15159</td>\n",
       "      <td>4130441</td>\n",
       "    </tr>\n",
       "    <tr>\n",
       "      <th>...</th>\n",
       "      <td>...</td>\n",
       "      <td>...</td>\n",
       "      <td>...</td>\n",
       "    </tr>\n",
       "    <tr>\n",
       "      <th>Bonell</th>\n",
       "      <td>5</td>\n",
       "      <td>5</td>\n",
       "      <td>10</td>\n",
       "    </tr>\n",
       "    <tr>\n",
       "      <th>Camlin</th>\n",
       "      <td>5</td>\n",
       "      <td>5</td>\n",
       "      <td>10</td>\n",
       "    </tr>\n",
       "    <tr>\n",
       "      <th>Wilmeth</th>\n",
       "      <td>5</td>\n",
       "      <td>5</td>\n",
       "      <td>10</td>\n",
       "    </tr>\n",
       "    <tr>\n",
       "      <th>Macaire</th>\n",
       "      <td>5</td>\n",
       "      <td>5</td>\n",
       "      <td>10</td>\n",
       "    </tr>\n",
       "    <tr>\n",
       "      <th>Ayele</th>\n",
       "      <td>5</td>\n",
       "      <td>5</td>\n",
       "      <td>10</td>\n",
       "    </tr>\n",
       "  </tbody>\n",
       "</table>\n",
       "<p>10221 rows × 3 columns</p>\n",
       "</div>"
      ],
      "text/plain": [
       "Gender         F        M    Total\n",
       "Name                              \n",
       "James      23177  5105919  5129096\n",
       "John       21647  5084943  5106590\n",
       "Robert     20090  4796695  4816785\n",
       "Michael    21607  4309198  4330805\n",
       "Mary     4115282    15159  4130441\n",
       "...          ...      ...      ...\n",
       "Bonell         5        5       10\n",
       "Camlin         5        5       10\n",
       "Wilmeth        5        5       10\n",
       "Macaire        5        5       10\n",
       "Ayele          5        5       10\n",
       "\n",
       "[10221 rows x 3 columns]"
      ]
     },
     "execution_count": 17,
     "metadata": {},
     "output_type": "execute_result"
    }
   ],
   "source": [
    "names_by_gender = data.groupby(['Name', 'Gender'])['Count'].sum().unstack(fill_value=0)\n",
    "neutral_names = names_by_gender[(names_by_gender['F'] > 0) & (names_by_gender['M'] > 0)].copy()\n",
    "neutral_names['Total'] = neutral_names['F'] + neutral_names['M']\n",
    "top_neutral_names = neutral_names.sort_values(by='Total', ascending=False)\n",
    "top_neutral_names"
   ]
  },
  {
   "cell_type": "markdown",
   "id": "df530ff2",
   "metadata": {},
   "source": [
    "## 24. Знайти найпопулярніше серед непопулярних імен (непопулярне ім’я, яким називали дітей найбільшу кількість разів )"
   ]
  },
  {
   "cell_type": "code",
   "execution_count": 18,
   "id": "334b631a",
   "metadata": {},
   "outputs": [
    {
     "name": "stdout",
     "output_type": "stream",
     "text": [
      "Найбільш популярне із непопулярних імен - це Adriyana. Ним називали 160 разів.\n"
     ]
    }
   ],
   "source": [
    "name_counts = data.groupby('Name')['Count'].sum()\n",
    "unpopular_names = name_counts[name_counts < 161]  # Імена, які зустрічаються менше ніж 161 разів\n",
    "most_popular_unpopular_name = unpopular_names.idxmax()  # Ім'я з найбільшою кількістю серед непопулярних\n",
    "most_popular_unpopular_name_count = unpopular_names.max()  # Кількість народжень для цього імені\n",
    "print(f\"Найбільш популярне із непопулярних імен - це {most_popular_unpopular_name}. Ним називали {most_popular_unpopular_name_count} разів.\")"
   ]
  },
  {
   "cell_type": "markdown",
   "id": "ab31d754",
   "metadata": {},
   "source": [
    "## 26. Побудувати графіки розподілення кількості жіночих імен John та чоловічих імен Mary по роках.\n"
   ]
  },
  {
   "cell_type": "code",
   "execution_count": 19,
   "id": "6fb57617",
   "metadata": {},
   "outputs": [
    {
     "data": {
      "image/png": "[encoded data removed]",
      "text/plain": [
       "<Figure size 1000x600 with 1 Axes>"
      ]
     },
     "metadata": {},
     "output_type": "display_data"
    }
   ],
   "source": [
    "import matplotlib.pyplot as plt\n",
    "john_female = data[(data['Name'] == 'John') & (data['Gender'] == 'F')]\n",
    "mary_male = data[(data['Name'] == 'Mary') & (data['Gender'] == 'M')]\n",
    "plt.figure(figsize=(10, 6))\n",
    "plt.plot(john_female['Year'], john_female['Count'], color='blue', label='John')\n",
    "plt.plot(mary_male['Year'], mary_male['Count'], color='orange', label='Mary')\n",
    "plt.xlabel('Year')\n",
    "plt.legend(title='Name')\n",
    "plt.tight_layout()\n",
    "plt.show()"
   ]
  },
  {
   "cell_type": "code",
   "execution_count": null,
   "id": "c49fd187",
   "metadata": {},
   "outputs": [],
   "source": []
  }
 ],
 "metadata": {
  "kernelspec": {
   "display_name": "Python 3 (ipykernel)",
   "language": "python",
   "name": "python3"
  },
  "language_info": {
   "codemirror_mode": {
    "name": "ipython",
    "version": 3
   },
   "file_extension": ".py",
   "mimetype": "text/x-python",
   "name": "python",
   "nbconvert_exporter": "python",
   "pygments_lexer": "ipython3",
   "version": "3.7.1"
  }
 },
 "nbformat": 4,
 "nbformat_minor": 5
}
